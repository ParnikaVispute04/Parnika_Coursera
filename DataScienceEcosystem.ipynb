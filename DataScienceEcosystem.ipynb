{
 "cells": [
  {
   "cell_type": "markdown",
   "id": "91b95bfb-b8b1-46e6-960d-e71855d9a6ab",
   "metadata": {},
   "source": [
    "# Data Science Tools and Ecosystem"
   ]
  },
  {
   "attachments": {},
   "cell_type": "markdown",
   "id": "93a6be53-a9c6-4a14-bb00-b7f249af46e0",
   "metadata": {},
   "source": [
    "In this notebook, Data Science Tools and Ecosystem have been summarized.\r\n"
   ]
  },
  {
   "cell_type": "markdown",
   "id": "a3bbbf3a-c5a4-424d-bdd5-12de6c2eb1a1",
   "metadata": {},
   "source": [
    "**Objectives:**\r\n",
    "- List popular languages for Data Science\r\n",
    "- List commonly used Data Science libraries\r\n",
    "- List development environment tools used in Data Science\r\n",
    "- Perform basic arithmetic operations using Python\r\n"
   ]
  },
  {
   "cell_type": "markdown",
   "id": "bce46a4c-31ef-4cd7-bda7-4c4b36f1671b",
   "metadata": {},
   "source": [
    "Some of the popular languages that Data Scientists use are: \n",
    "1. Python\n",
    "2. R\n",
    "3. SQL\n",
    "4. Julia\n",
    "5. Java"
   ]
  },
  {
   "cell_type": "markdown",
   "id": "a4ba418f-4990-4434-8fdc-aad27e49d69e",
   "metadata": {},
   "source": [
    "Some of the commonly used libraries used by Data Scientists include:\r\n",
    "1. Pandas\r\n",
    "2. NumPy\r\n",
    "3. Matplotlib\r\n",
    "4. Scikit-learn\r\n",
    "5. TensorFlow\r\n"
   ]
  },
  {
   "cell_type": "markdown",
   "id": "ce2fe708-2a67-47d6-8625-6eb28447c0eb",
   "metadata": {},
   "source": [
    "| Data Science Tools |\r\n",
    "|--------------------|\r\n",
    "| Jupyter Notebook   |\r\n",
    "| RStudio            |\r\n",
    "| ApaSpark       |\n",
    "  Tableau            |   |\r\n",
    "   |\r\n"
   ]
  },
  {
   "cell_type": "markdown",
   "id": "4728f7a5-c932-4a62-8b11-0665b5f683f8",
   "metadata": {},
   "source": [
    "### Below are a few examples of evaluating arithmetic expressions in Python.\r\n"
   ]
  },
  {
   "cell_type": "code",
   "execution_count": 1,
   "id": "7ac51e14-a7fc-43b3-9d49-1a86bb455a17",
   "metadata": {},
   "outputs": [
    {
     "data": {
      "text/plain": [
       "17"
      ]
     },
     "execution_count": 1,
     "metadata": {},
     "output_type": "execute_result"
    }
   ],
   "source": [
    "# This is a simple arithmetic expression to multiply then add integers\r\n",
    "(3*4) + 5\r\n"
   ]
  },
  {
   "cell_type": "code",
   "execution_count": 2,
   "id": "e2696e14-1dc7-4da2-afdf-fa0a23f5db59",
   "metadata": {},
   "outputs": [
    {
     "data": {
      "text/plain": [
       "3.3333333333333335"
      ]
     },
     "execution_count": 2,
     "metadata": {},
     "output_type": "execute_result"
    }
   ],
   "source": [
    "# This will convert 200 minutes to hours by dividing by 60\n",
    "200 / 60\n"
   ]
  },
  {
   "cell_type": "markdown",
   "id": "b31fc439-fece-47b1-ae21-a4133f4b5c1b",
   "metadata": {},
   "source": [
    "## Author\r",
    "Parnika Visputee\r\n"
   ]
  }
 ],
 "metadata": {
  "kernelspec": {
   "display_name": "Python 3 (ipykernel)",
   "language": "python",
   "name": "python3"
  },
  "language_info": {
   "codemirror_mode": {
    "name": "ipython",
    "version": 3
   },
   "file_extension": ".py",
   "mimetype": "text/x-python",
   "name": "python",
   "nbconvert_exporter": "python",
   "pygments_lexer": "ipython3",
   "version": "3.12.4"
  }
 },
 "nbformat": 4,
 "nbformat_minor": 5
}
